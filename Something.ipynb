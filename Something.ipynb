{
 "cells": [
  {
   "cell_type": "code",
   "execution_count": 5,
   "metadata": {},
   "outputs": [
    {
     "name": "stdin",
     "output_type": "stream",
     "text": [
      "What ur name?? askdfjha \n",
      "Type something else. I will find the longest word in the string asdkfa askdfaj ere\n"
     ]
    },
    {
     "name": "stdout",
     "output_type": "stream",
     "text": [
      "askdfaj\n"
     ]
    }
   ],
   "source": [
    "name = input(\"What ur name??\")\n",
    "\n",
    "other = input(\"Type something else. I will find the longest word in the string\")\n",
    "\n",
    "string_arr = other.split(\" \")\n",
    "longest_word = \"\"\n",
    "for word in string_arr:\n",
    "    if len(word) > len(longest_word):\n",
    "        longest_word = word\n",
    "    \n",
    "     \n",
    "print(longest_word)\n",
    "    "
   ]
  },
  {
   "cell_type": "code",
   "execution_count": null,
   "metadata": {},
   "outputs": [],
   "source": []
  },
  {
   "cell_type": "code",
   "execution_count": null,
   "metadata": {},
   "outputs": [],
   "source": []
  }
 ],
 "metadata": {
  "kernelspec": {
   "display_name": "Python 3",
   "language": "python",
   "name": "python3"
  },
  "language_info": {
   "codemirror_mode": {
    "name": "ipython",
    "version": 3
   },
   "file_extension": ".py",
   "mimetype": "text/x-python",
   "name": "python",
   "nbconvert_exporter": "python",
   "pygments_lexer": "ipython3",
   "version": "3.8.3"
  }
 },
 "nbformat": 4,
 "nbformat_minor": 4
}
